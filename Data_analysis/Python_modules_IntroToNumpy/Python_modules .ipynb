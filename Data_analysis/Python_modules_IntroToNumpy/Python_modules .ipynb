{
 "cells": [
  {
   "cell_type": "markdown",
   "id": "dfe91580",
   "metadata": {},
   "source": [
    "# Python modules "
   ]
  },
  {
   "cell_type": "code",
   "execution_count": 2,
   "id": "9cc3ea4d",
   "metadata": {},
   "outputs": [
    {
     "name": "stdout",
     "output_type": "stream",
     "text": [
      "Enter \"a\" for addtion:  \n",
      " Enter \"s\" for substraction:  \n",
      " Enter \"m\" for multiplocation: \n",
      " Enter \"d\" for division: d\n"
     ]
    }
   ],
   "source": [
    "import CalculatorFunction as cc"
   ]
  },
  {
   "cell_type": "code",
   "execution_count": 3,
   "id": "5dc7ce94",
   "metadata": {},
   "outputs": [
    {
     "name": "stdout",
     "output_type": "stream",
     "text": [
      "Enter \"a\" for addtion:  \n",
      " Enter \"s\" for substraction:  \n",
      " Enter \"m\" for multiplocation: \n",
      " Enter \"d\" for division: s\n"
     ]
    },
    {
     "data": {
      "text/plain": [
       "18"
      ]
     },
     "execution_count": 3,
     "metadata": {},
     "output_type": "execute_result"
    }
   ],
   "source": [
    "cc.calculator(23,5)"
   ]
  },
  {
   "cell_type": "code",
   "execution_count": 24,
   "id": "4b3b452b",
   "metadata": {},
   "outputs": [],
   "source": [
    "import mathematics as ma"
   ]
  },
  {
   "cell_type": "code",
   "execution_count": 25,
   "id": "e3fdac5c",
   "metadata": {},
   "outputs": [
    {
     "name": "stdout",
     "output_type": "stream",
     "text": [
      "the difference of the nimbers is  -2\n"
     ]
    }
   ],
   "source": [
    "ma.difference(5,7)"
   ]
  },
  {
   "cell_type": "code",
   "execution_count": null,
   "id": "155b04fc",
   "metadata": {},
   "outputs": [],
   "source": []
  }
 ],
 "metadata": {
  "kernelspec": {
   "display_name": "Python 3 (ipykernel)",
   "language": "python",
   "name": "python3"
  },
  "language_info": {
   "codemirror_mode": {
    "name": "ipython",
    "version": 3
   },
   "file_extension": ".py",
   "mimetype": "text/x-python",
   "name": "python",
   "nbconvert_exporter": "python",
   "pygments_lexer": "ipython3",
   "version": "3.11.4"
  }
 },
 "nbformat": 4,
 "nbformat_minor": 5
}
