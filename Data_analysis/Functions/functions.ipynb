{
 "cells": [
  {
   "cell_type": "markdown",
   "id": "fa20299e",
   "metadata": {},
   "source": [
    "# Functions \n",
    "\n",
    "### Functions are basically reusable block of code. "
   ]
  },
  {
   "cell_type": "code",
   "execution_count": 1,
   "id": "92b025fe",
   "metadata": {},
   "outputs": [
    {
     "data": {
      "text/plain": [
       "'\\ndef function_name(parameters):\\n    #body\\n    ###\\n    \\n    return result\\n'"
      ]
     },
     "execution_count": 1,
     "metadata": {},
     "output_type": "execute_result"
    }
   ],
   "source": [
    "'''\n",
    "def function_name(parameters):\n",
    "    #body\n",
    "    ###\n",
    "    \n",
    "    return result\n",
    "'''"
   ]
  },
  {
   "cell_type": "code",
   "execution_count": 2,
   "id": "f9056836",
   "metadata": {},
   "outputs": [],
   "source": [
    "def greetings(name):\n",
    "    return name + ' '+ \"good afternoon\""
   ]
  },
  {
   "cell_type": "code",
   "execution_count": 3,
   "id": "fe6ab4e0",
   "metadata": {},
   "outputs": [
    {
     "data": {
      "text/plain": [
       "'king good afternoon'"
      ]
     },
     "execution_count": 3,
     "metadata": {},
     "output_type": "execute_result"
    }
   ],
   "source": [
    "greetings(\"king\")"
   ]
  },
  {
   "cell_type": "code",
   "execution_count": 7,
   "id": "657f6c54",
   "metadata": {},
   "outputs": [],
   "source": [
    "def areaOfCircle():\n",
    "    radius = int(input(\"Enter the radius value: \"))\n",
    "    pii = 3.142\n",
    "    return radius**2*pii"
   ]
  },
  {
   "cell_type": "code",
   "execution_count": 8,
   "id": "fe4cbfa1",
   "metadata": {},
   "outputs": [
    {
     "name": "stdout",
     "output_type": "stream",
     "text": [
      "Enter the radius value: 33\n"
     ]
    },
    {
     "data": {
      "text/plain": [
       "3421.638"
      ]
     },
     "execution_count": 8,
     "metadata": {},
     "output_type": "execute_result"
    }
   ],
   "source": [
    "areaOfCircle()"
   ]
  },
  {
   "cell_type": "code",
   "execution_count": 9,
   "id": "3a264d5e",
   "metadata": {},
   "outputs": [
    {
     "name": "stdout",
     "output_type": "stream",
     "text": [
      "Enter the radius value: 222\n"
     ]
    },
    {
     "data": {
      "text/plain": [
       "154850.328"
      ]
     },
     "execution_count": 9,
     "metadata": {},
     "output_type": "execute_result"
    }
   ],
   "source": [
    "areaOfCircle()"
   ]
  },
  {
   "cell_type": "code",
   "execution_count": 12,
   "id": "9e058299",
   "metadata": {},
   "outputs": [],
   "source": [
    "def areaOfTriangle(base, height):\n",
    "    area = 0.5 * base * height\n",
    "    return area "
   ]
  },
  {
   "cell_type": "code",
   "execution_count": 13,
   "id": "9ef397ea",
   "metadata": {},
   "outputs": [
    {
     "data": {
      "text/plain": [
       "765.0"
      ]
     },
     "execution_count": 13,
     "metadata": {},
     "output_type": "execute_result"
    }
   ],
   "source": [
    "areaOfTriangle(34,45)"
   ]
  },
  {
   "cell_type": "markdown",
   "id": "b06ffa5e",
   "metadata": {},
   "source": [
    "## Errors and exception handling"
   ]
  },
  {
   "cell_type": "markdown",
   "id": "338fadfe",
   "metadata": {},
   "source": [
    "### * Errors are the mistakes or faults in the program that causes our program to behave unexpectedly.\n",
    "### * If not handled properly will lead to failure and program crashes \n",
    "### * When actual output of your program is not equal to expected output your program is said to have an error "
   ]
  },
  {
   "cell_type": "markdown",
   "id": "b945edcc",
   "metadata": {},
   "source": [
    "## Exception\n",
    "\n",
    "\n",
    "#### Errors can also occur at runtime and these are called exceptions \n",
    "#### Exceptions may occure due to \n",
    "* improper user input \n",
    "* Resources not present(e.g. file not present) if exception occur and they are not handled properly, execusion gets terminated.\n",
    "\n",
    "### Whenever these type of runtime error occur, python creates an exception object. If not handled properly, it prints a trace back to that error along with some details  about why that error occured."
   ]
  },
  {
   "cell_type": "markdown",
   "id": "1a350bf5",
   "metadata": {},
   "source": [
    "# FileNotFoundError"
   ]
  },
  {
   "cell_type": "code",
   "execution_count": 14,
   "id": "155c278f",
   "metadata": {},
   "outputs": [
    {
     "ename": "FileNotFoundError",
     "evalue": "[Errno 2] No such file or directory: 'except.txt'",
     "output_type": "error",
     "traceback": [
      "\u001b[1;31m---------------------------------------------------------------------------\u001b[0m",
      "\u001b[1;31mFileNotFoundError\u001b[0m                         Traceback (most recent call last)",
      "Cell \u001b[1;32mIn[14], line 1\u001b[0m\n\u001b[1;32m----> 1\u001b[0m \u001b[38;5;28;01mwith\u001b[39;00m \u001b[38;5;28mopen\u001b[39m(\u001b[38;5;124m\"\u001b[39m\u001b[38;5;124mexcept.txt\u001b[39m\u001b[38;5;124m\"\u001b[39m, \u001b[38;5;124m\"\u001b[39m\u001b[38;5;124mr\u001b[39m\u001b[38;5;124m\"\u001b[39m) \u001b[38;5;28;01mas\u001b[39;00m file:\n\u001b[0;32m      2\u001b[0m     \u001b[38;5;28;01mfor\u001b[39;00m i \u001b[38;5;129;01min\u001b[39;00m file:\n\u001b[0;32m      3\u001b[0m         \u001b[38;5;28mprint\u001b[39m(i)\n",
      "File \u001b[1;32m~\\anaconda3\\Lib\\site-packages\\IPython\\core\\interactiveshell.py:284\u001b[0m, in \u001b[0;36m_modified_open\u001b[1;34m(file, *args, **kwargs)\u001b[0m\n\u001b[0;32m    277\u001b[0m \u001b[38;5;28;01mif\u001b[39;00m file \u001b[38;5;129;01min\u001b[39;00m {\u001b[38;5;241m0\u001b[39m, \u001b[38;5;241m1\u001b[39m, \u001b[38;5;241m2\u001b[39m}:\n\u001b[0;32m    278\u001b[0m     \u001b[38;5;28;01mraise\u001b[39;00m \u001b[38;5;167;01mValueError\u001b[39;00m(\n\u001b[0;32m    279\u001b[0m         \u001b[38;5;124mf\u001b[39m\u001b[38;5;124m\"\u001b[39m\u001b[38;5;124mIPython won\u001b[39m\u001b[38;5;124m'\u001b[39m\u001b[38;5;124mt let you open fd=\u001b[39m\u001b[38;5;132;01m{\u001b[39;00mfile\u001b[38;5;132;01m}\u001b[39;00m\u001b[38;5;124m by default \u001b[39m\u001b[38;5;124m\"\u001b[39m\n\u001b[0;32m    280\u001b[0m         \u001b[38;5;124m\"\u001b[39m\u001b[38;5;124mas it is likely to crash IPython. If you know what you are doing, \u001b[39m\u001b[38;5;124m\"\u001b[39m\n\u001b[0;32m    281\u001b[0m         \u001b[38;5;124m\"\u001b[39m\u001b[38;5;124myou can use builtins\u001b[39m\u001b[38;5;124m'\u001b[39m\u001b[38;5;124m open.\u001b[39m\u001b[38;5;124m\"\u001b[39m\n\u001b[0;32m    282\u001b[0m     )\n\u001b[1;32m--> 284\u001b[0m \u001b[38;5;28;01mreturn\u001b[39;00m io_open(file, \u001b[38;5;241m*\u001b[39margs, \u001b[38;5;241m*\u001b[39m\u001b[38;5;241m*\u001b[39mkwargs)\n",
      "\u001b[1;31mFileNotFoundError\u001b[0m: [Errno 2] No such file or directory: 'except.txt'"
     ]
    }
   ],
   "source": [
    "with open(\"except.txt\", \"r\") as file:\n",
    "    for i in file:\n",
    "        print(i)"
   ]
  },
  {
   "cell_type": "markdown",
   "id": "9256367b",
   "metadata": {},
   "source": [
    "# ZeroDivisionError"
   ]
  },
  {
   "cell_type": "code",
   "execution_count": 15,
   "id": "064b346a",
   "metadata": {},
   "outputs": [
    {
     "ename": "ZeroDivisionError",
     "evalue": "division by zero",
     "output_type": "error",
     "traceback": [
      "\u001b[1;31m---------------------------------------------------------------------------\u001b[0m",
      "\u001b[1;31mZeroDivisionError\u001b[0m                         Traceback (most recent call last)",
      "Cell \u001b[1;32mIn[15], line 1\u001b[0m\n\u001b[1;32m----> 1\u001b[0m \u001b[38;5;241m5\u001b[39m\u001b[38;5;241m/\u001b[39m\u001b[38;5;241m0\u001b[39m\n",
      "\u001b[1;31mZeroDivisionError\u001b[0m: division by zero"
     ]
    }
   ],
   "source": [
    "5/0"
   ]
  },
  {
   "cell_type": "markdown",
   "id": "21be4c48",
   "metadata": {},
   "source": [
    "# NameError"
   ]
  },
  {
   "cell_type": "code",
   "execution_count": 16,
   "id": "6d33a3e9",
   "metadata": {},
   "outputs": [
    {
     "ename": "NameError",
     "evalue": "name 'spam' is not defined",
     "output_type": "error",
     "traceback": [
      "\u001b[1;31m---------------------------------------------------------------------------\u001b[0m",
      "\u001b[1;31mNameError\u001b[0m                                 Traceback (most recent call last)",
      "Cell \u001b[1;32mIn[16], line 1\u001b[0m\n\u001b[1;32m----> 1\u001b[0m \u001b[38;5;241m4\u001b[39m \u001b[38;5;241m+\u001b[39m spam\u001b[38;5;241m*\u001b[39m\u001b[38;5;241m4\u001b[39m\n",
      "\u001b[1;31mNameError\u001b[0m: name 'spam' is not defined"
     ]
    }
   ],
   "source": [
    "4 + spam*4"
   ]
  },
  {
   "cell_type": "markdown",
   "id": "e4f0aa18",
   "metadata": {},
   "source": [
    "# Exception Handling "
   ]
  },
  {
   "cell_type": "code",
   "execution_count": 21,
   "id": "42489d0b",
   "metadata": {},
   "outputs": [
    {
     "name": "stdout",
     "output_type": "stream",
     "text": [
      "Enter first number: t\n",
      "Charle, Please enter a number wai \n"
     ]
    }
   ],
   "source": [
    "try:\n",
    "    num1 = int(input(\"Enter first number: \"))\n",
    "    num2 = int(input(\"Enter second number: \"))\n",
    "    \n",
    "    print(num1 ** num2)\n",
    "except:\n",
    "    print(\"Charle, Please enter a number wai \")"
   ]
  },
  {
   "cell_type": "code",
   "execution_count": 22,
   "id": "383c2e7d",
   "metadata": {},
   "outputs": [
    {
     "name": "stdout",
     "output_type": "stream",
     "text": [
      "Enter first number: t\n",
      "invalid literal for int() with base 10: 't'\n",
      "Emter the correct value\n"
     ]
    }
   ],
   "source": [
    "try:\n",
    "    num1 = int(input(\"Enter first number: \"))\n",
    "    num2 = int(input(\"Enter second number: \"))\n",
    "    \n",
    "    print(num1 ** num2)\n",
    "except (ZeroDivisionError, ValueError, NameError ) as e:\n",
    "    print(e)\n",
    "    print(\"Emter the correct value\")"
   ]
  },
  {
   "cell_type": "code",
   "execution_count": null,
   "id": "e6abe506",
   "metadata": {},
   "outputs": [],
   "source": []
  }
 ],
 "metadata": {
  "kernelspec": {
   "display_name": "Python 3 (ipykernel)",
   "language": "python",
   "name": "python3"
  },
  "language_info": {
   "codemirror_mode": {
    "name": "ipython",
    "version": 3
   },
   "file_extension": ".py",
   "mimetype": "text/x-python",
   "name": "python",
   "nbconvert_exporter": "python",
   "pygments_lexer": "ipython3",
   "version": "3.11.4"
  }
 },
 "nbformat": 4,
 "nbformat_minor": 5
}
