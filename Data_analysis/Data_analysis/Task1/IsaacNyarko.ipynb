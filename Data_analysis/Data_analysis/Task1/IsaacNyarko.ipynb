{
 "cells": [
  {
   "cell_type": "markdown",
   "id": "381ff63f",
   "metadata": {},
   "source": [
    "# A python function to calculate the momo tax on customer transfer "
   ]
  },
  {
   "cell_type": "code",
   "execution_count": 52,
   "id": "241a9c53",
   "metadata": {},
   "outputs": [
    {
     "name": "stdout",
     "output_type": "stream",
     "text": [
      "Select your option: \n",
      "1. Withdrawal\n",
      "2. Transfer\n",
      "Enter 'q' to quit: 1\n",
      "Enter your amount: GHC 3000\n",
      "Amount charged is GHC 3450.0\n"
     ]
    }
   ],
   "source": [
    "def momo():\n",
    "    while True:\n",
    "        try:\n",
    "            option = input(\"Select your option: \\n1. Withdrawal\\n2. Transfer\\nEnter 'q' to quit: \")\n",
    "            \n",
    "            if option == '1' or option == '2':\n",
    "                money = float(input(\"Enter your amount: GHC \"))\n",
    "                if money <= 100:\n",
    "                    print(\"Amount is GHC\", money)\n",
    "                elif 100 < money <= 500:\n",
    "                    newAmount = 0.05 * money + money\n",
    "                    print(\"Amount charged is GHC\", newAmount)\n",
    "                elif 500 < money <= 1000:\n",
    "                    new_amount = 0.1 * money + money\n",
    "                    print(\"Amount charged is GHC\", new_amount)\n",
    "                elif 1000 < money <= 5000:\n",
    "                    new_Amount = 0.15 * money + money\n",
    "                    print(\"Amount charged is GHC\", new_Amount)\n",
    "                elif money > 5000:\n",
    "                    new_money = 0.20 * money + money\n",
    "                    print(\"Amount charged is GHC\", new_money)\n",
    "                else:\n",
    "                    print(\"Please select a valid amount.\")\n",
    "                break  # Exit the loop once a valid option is selected\n",
    "            elif option.lower() == 'q':\n",
    "                print(\"Exiting program.\")\n",
    "                return  # Exit the program if 'q' is entered\n",
    "            else:\n",
    "                print(\"Invalid option. Please select either '1' or '2' or enter 'q' to quit.\")\n",
    "        except ValueError as e:\n",
    "            print(\"Error:\", e)\n",
    "            print(\"Please enter a valid value.\")\n",
    "\n",
    "momo()"
   ]
  },
  {
   "cell_type": "code",
   "execution_count": 50,
   "id": "63919c9d",
   "metadata": {},
   "outputs": [
    {
     "name": "stdout",
     "output_type": "stream",
     "text": [
      "Select your option: \n",
      "1. Withdrawal\n",
      "2. Transfer\n",
      "Enter 'q' to quit: 2\n",
      "Enter your amount: GHC 60000\n",
      "Amount charged is GHC 72000.0\n"
     ]
    }
   ],
   "source": [
    "momo()"
   ]
  },
  {
   "cell_type": "code",
   "execution_count": 51,
   "id": "6c628853",
   "metadata": {},
   "outputs": [
    {
     "name": "stdout",
     "output_type": "stream",
     "text": [
      "Select your option: \n",
      "1. Withdrawal\n",
      "2. Transfer\n",
      "Enter 'q' to quit: 1\n",
      "Enter your amount: GHC 300\n",
      "Amount charged is GHC 315.0\n"
     ]
    }
   ],
   "source": [
    "momo()"
   ]
  },
  {
   "cell_type": "markdown",
   "id": "09afcf42",
   "metadata": {},
   "source": [
    "## Research on Numpy"
   ]
  },
  {
   "cell_type": "markdown",
   "id": "6a49b0f9",
   "metadata": {},
   "source": [
    " NumPy, short for \"Numerical Python,\" is a fundamental library in the Python ecosystem for numerical and scientific computing. It provides support for working with large, multi-dimensional arrays and matrices, along with a collection of mathematical functions to operate on these arrays efficiently. Here are some key points about NumPy:\n",
    "\n",
    "Efficient Data Structures: NumPy introduces the ndarray (n-dimensional array) data structure, which is more memory-efficient and faster than Python's built-in lists for numerical operations.\n",
    "\n",
    "Array Operations: NumPy enables you to perform element-wise operations, mathematical operations, and linear algebra operations on arrays with ease. This simplifies complex numerical computations.\n",
    "\n",
    "Broadcasting: NumPy has a powerful feature called broadcasting, which allows you to perform operations on arrays of different shapes, making code more concise and readable.\n",
    "\n",
    "Integration with Other Libraries: NumPy seamlessly integrates with other scientific libraries like SciPy (for scientific and technical computing), Matplotlib (for data visualization), and pandas (for data analysis), forming a powerful ecosystem for data science and numerical computing.\n",
    "\n",
    "Random Number Generation: NumPy includes functions for random number generation, making it useful for simulations and statistical applications.\n",
    "\n",
    "Data Handling: NumPy provides tools for reading and writing data to and from disk, including support for various file formats."
   ]
  },
  {
   "cell_type": "code",
   "execution_count": null,
   "id": "e4c54206",
   "metadata": {},
   "outputs": [],
   "source": []
  }
 ],
 "metadata": {
  "kernelspec": {
   "display_name": "Python 3 (ipykernel)",
   "language": "python",
   "name": "python3"
  },
  "language_info": {
   "codemirror_mode": {
    "name": "ipython",
    "version": 3
   },
   "file_extension": ".py",
   "mimetype": "text/x-python",
   "name": "python",
   "nbconvert_exporter": "python",
   "pygments_lexer": "ipython3",
   "version": "3.11.4"
  }
 },
 "nbformat": 4,
 "nbformat_minor": 5
}
