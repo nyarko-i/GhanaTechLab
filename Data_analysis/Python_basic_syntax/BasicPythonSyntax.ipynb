{
 "cells": [
  {
   "cell_type": "markdown",
   "id": "2d2caf51",
   "metadata": {},
   "source": [
    "## Logical statements"
   ]
  },
  {
   "cell_type": "code",
   "execution_count": 1,
   "id": "60b6f165",
   "metadata": {},
   "outputs": [
    {
     "data": {
      "text/plain": [
       "False"
      ]
     },
     "execution_count": 1,
     "metadata": {},
     "output_type": "execute_result"
    }
   ],
   "source": [
    "(3>12)"
   ]
  },
  {
   "cell_type": "code",
   "execution_count": 2,
   "id": "2ea4f998",
   "metadata": {},
   "outputs": [
    {
     "data": {
      "text/plain": [
       "False"
      ]
     },
     "execution_count": 2,
     "metadata": {},
     "output_type": "execute_result"
    }
   ],
   "source": [
    "(3>12)& (4>3)"
   ]
  },
  {
   "cell_type": "code",
   "execution_count": 3,
   "id": "c060c22a",
   "metadata": {},
   "outputs": [
    {
     "data": {
      "text/plain": [
       "True"
      ]
     },
     "execution_count": 3,
     "metadata": {},
     "output_type": "execute_result"
    }
   ],
   "source": [
    "True and True "
   ]
  },
  {
   "cell_type": "code",
   "execution_count": 4,
   "id": "94767e33",
   "metadata": {},
   "outputs": [
    {
     "data": {
      "text/plain": [
       "False"
      ]
     },
     "execution_count": 4,
     "metadata": {},
     "output_type": "execute_result"
    }
   ],
   "source": [
    "True and False "
   ]
  },
  {
   "cell_type": "code",
   "execution_count": 5,
   "id": "63f6a108",
   "metadata": {},
   "outputs": [
    {
     "data": {
      "text/plain": [
       "False"
      ]
     },
     "execution_count": 5,
     "metadata": {},
     "output_type": "execute_result"
    }
   ],
   "source": [
    "False and True "
   ]
  },
  {
   "cell_type": "markdown",
   "id": "16cd1617",
   "metadata": {},
   "source": [
    "False and False "
   ]
  },
  {
   "cell_type": "markdown",
   "id": "bbd44609",
   "metadata": {},
   "source": [
    "## Or statement"
   ]
  },
  {
   "cell_type": "code",
   "execution_count": 7,
   "id": "623762bd",
   "metadata": {},
   "outputs": [
    {
     "data": {
      "text/plain": [
       "True"
      ]
     },
     "execution_count": 7,
     "metadata": {},
     "output_type": "execute_result"
    }
   ],
   "source": [
    "(3>2) or (4<44)"
   ]
  },
  {
   "cell_type": "code",
   "execution_count": 8,
   "id": "8d0a5b7d",
   "metadata": {},
   "outputs": [
    {
     "data": {
      "text/plain": [
       "False"
      ]
     },
     "execution_count": 8,
     "metadata": {},
     "output_type": "execute_result"
    }
   ],
   "source": [
    "(3>4) or (34<4)"
   ]
  },
  {
   "cell_type": "code",
   "execution_count": 9,
   "id": "9c4bfb52",
   "metadata": {},
   "outputs": [
    {
     "data": {
      "text/plain": [
       "True"
      ]
     },
     "execution_count": 9,
     "metadata": {},
     "output_type": "execute_result"
    }
   ],
   "source": [
    "(2==2) | (4 != 4)"
   ]
  },
  {
   "cell_type": "code",
   "execution_count": 10,
   "id": "4467608a",
   "metadata": {},
   "outputs": [
    {
     "data": {
      "text/plain": [
       "False"
      ]
     },
     "execution_count": 10,
     "metadata": {},
     "output_type": "execute_result"
    }
   ],
   "source": [
    "False | False "
   ]
  },
  {
   "cell_type": "code",
   "execution_count": 11,
   "id": "1d6c0857",
   "metadata": {},
   "outputs": [
    {
     "data": {
      "text/plain": [
       "True"
      ]
     },
     "execution_count": 11,
     "metadata": {},
     "output_type": "execute_result"
    }
   ],
   "source": [
    "True | True"
   ]
  },
  {
   "cell_type": "markdown",
   "id": "af98f326",
   "metadata": {},
   "source": [
    "## Print Function\n",
    "### Fuctions are basically lines of codes that performs a particular task"
   ]
  },
  {
   "cell_type": "code",
   "execution_count": 12,
   "id": "edca36a1",
   "metadata": {},
   "outputs": [
    {
     "name": "stdout",
     "output_type": "stream",
     "text": [
      "Today is my birthday\n"
     ]
    }
   ],
   "source": [
    "print(\"Today is my birthday\")"
   ]
  },
  {
   "cell_type": "markdown",
   "id": "f91e0d13",
   "metadata": {},
   "source": [
    "## Comments "
   ]
  },
  {
   "cell_type": "code",
   "execution_count": 15,
   "id": "5dd20986",
   "metadata": {},
   "outputs": [
    {
     "data": {
      "text/plain": [
       "12"
      ]
     },
     "execution_count": 15,
     "metadata": {},
     "output_type": "execute_result"
    }
   ],
   "source": [
    "# Talking about statements \n",
    "# Using the equallity sign \n",
    "3 * 4 # comments  can also be inline \n"
   ]
  },
  {
   "cell_type": "code",
   "execution_count": 16,
   "id": "366362f7",
   "metadata": {},
   "outputs": [
    {
     "data": {
      "text/plain": [
       "'\\nThis is a doc string. It basically helps us to explain functions\\nwhich we will see much later on\\n'"
      ]
     },
     "execution_count": 16,
     "metadata": {},
     "output_type": "execute_result"
    }
   ],
   "source": [
    "'''\n",
    "This is a doc string. It basically helps us to explain functions\n",
    "which we will see much later on\n",
    "'''"
   ]
  },
  {
   "cell_type": "markdown",
   "id": "3b32b058",
   "metadata": {},
   "source": [
    "## variables "
   ]
  },
  {
   "cell_type": "code",
   "execution_count": 17,
   "id": "a894a758",
   "metadata": {},
   "outputs": [],
   "source": [
    "ghana_president = 'Nana Akuffo Addo'"
   ]
  },
  {
   "cell_type": "code",
   "execution_count": 20,
   "id": "ed238fd1",
   "metadata": {},
   "outputs": [
    {
     "name": "stdout",
     "output_type": "stream",
     "text": [
      "Nana Akuffo Addo\n"
     ]
    }
   ],
   "source": [
    "print(ghana_president)"
   ]
  },
  {
   "cell_type": "code",
   "execution_count": 21,
   "id": "1b821a94",
   "metadata": {},
   "outputs": [
    {
     "data": {
      "text/plain": [
       "'Nana Akuffo Addo'"
      ]
     },
     "execution_count": 21,
     "metadata": {},
     "output_type": "execute_result"
    }
   ],
   "source": [
    "ghana_president "
   ]
  },
  {
   "cell_type": "code",
   "execution_count": 22,
   "id": "a3e1ff8e",
   "metadata": {},
   "outputs": [],
   "source": [
    "name = \"King\"\n",
    "age = 19\n",
    "location = \"Kumasi\""
   ]
  },
  {
   "cell_type": "code",
   "execution_count": 23,
   "id": "59331cf7",
   "metadata": {},
   "outputs": [
    {
     "data": {
      "text/plain": [
       "'Kumasi'"
      ]
     },
     "execution_count": 23,
     "metadata": {},
     "output_type": "execute_result"
    }
   ],
   "source": [
    "location"
   ]
  },
  {
   "cell_type": "code",
   "execution_count": 24,
   "id": "a2f3f885",
   "metadata": {},
   "outputs": [
    {
     "name": "stdout",
     "output_type": "stream",
     "text": [
      "My name is King\n"
     ]
    }
   ],
   "source": [
    "print(\"My name is\", name)"
   ]
  },
  {
   "cell_type": "code",
   "execution_count": 25,
   "id": "b3c172ca",
   "metadata": {},
   "outputs": [],
   "source": [
    "name,age,location = \"Isaac\", 20, \"East-legon\""
   ]
  },
  {
   "cell_type": "code",
   "execution_count": 26,
   "id": "5df9c796",
   "metadata": {},
   "outputs": [
    {
     "data": {
      "text/plain": [
       "'Isaac'"
      ]
     },
     "execution_count": 26,
     "metadata": {},
     "output_type": "execute_result"
    }
   ],
   "source": [
    "name"
   ]
  },
  {
   "cell_type": "code",
   "execution_count": 27,
   "id": "04b5a887",
   "metadata": {},
   "outputs": [],
   "source": [
    "t_age = i_age = l_age = 20"
   ]
  },
  {
   "cell_type": "code",
   "execution_count": 28,
   "id": "713129b8",
   "metadata": {},
   "outputs": [
    {
     "data": {
      "text/plain": [
       "20"
      ]
     },
     "execution_count": 28,
     "metadata": {},
     "output_type": "execute_result"
    }
   ],
   "source": [
    "i_age "
   ]
  },
  {
   "cell_type": "markdown",
   "id": "95809022",
   "metadata": {},
   "source": [
    "##### When naming variables :\n",
    "##### It nust alwlays begin with a letter or an underscore, it must not start with any number . \n",
    "##### It can contain numbers but it shouldn't start with a number\n",
    "##### It shouldn't be contain special characters such as @ and so on..."
   ]
  },
  {
   "cell_type": "markdown",
   "id": "1ba8b0c5",
   "metadata": {},
   "source": [
    "# Data Types "
   ]
  },
  {
   "cell_type": "markdown",
   "id": "dc741795",
   "metadata": {},
   "source": [
    "#### Float \n"
   ]
  },
  {
   "cell_type": "code",
   "execution_count": 29,
   "id": "45608e9c",
   "metadata": {},
   "outputs": [
    {
     "data": {
      "text/plain": [
       "0.6666666666666666"
      ]
     },
     "execution_count": 29,
     "metadata": {},
     "output_type": "execute_result"
    }
   ],
   "source": [
    "2/3"
   ]
  },
  {
   "cell_type": "code",
   "execution_count": 32,
   "id": "dc46d5af",
   "metadata": {},
   "outputs": [
    {
     "data": {
      "text/plain": [
       "float"
      ]
     },
     "execution_count": 32,
     "metadata": {},
     "output_type": "execute_result"
    }
   ],
   "source": [
    "type(0.777887)"
   ]
  },
  {
   "cell_type": "markdown",
   "id": "44aceaff",
   "metadata": {},
   "source": [
    "##### Booleans"
   ]
  },
  {
   "cell_type": "code",
   "execution_count": 31,
   "id": "dd62b01b",
   "metadata": {},
   "outputs": [
    {
     "data": {
      "text/plain": [
       "bool"
      ]
     },
     "execution_count": 31,
     "metadata": {},
     "output_type": "execute_result"
    }
   ],
   "source": [
    "type(True)"
   ]
  },
  {
   "cell_type": "code",
   "execution_count": 33,
   "id": "ce48f1b8",
   "metadata": {},
   "outputs": [
    {
     "data": {
      "text/plain": [
       "9.0"
      ]
     },
     "execution_count": 33,
     "metadata": {},
     "output_type": "execute_result"
    }
   ],
   "source": [
    "float(9)"
   ]
  },
  {
   "cell_type": "code",
   "execution_count": 34,
   "id": "d5fa1a29",
   "metadata": {},
   "outputs": [
    {
     "data": {
      "text/plain": [
       "False"
      ]
     },
     "execution_count": 34,
     "metadata": {},
     "output_type": "execute_result"
    }
   ],
   "source": [
    "bool(0)"
   ]
  },
  {
   "cell_type": "code",
   "execution_count": 35,
   "id": "ca6b3bdb",
   "metadata": {},
   "outputs": [
    {
     "data": {
      "text/plain": [
       "1"
      ]
     },
     "execution_count": 35,
     "metadata": {},
     "output_type": "execute_result"
    }
   ],
   "source": [
    "int(1)"
   ]
  },
  {
   "cell_type": "markdown",
   "id": "31be9064",
   "metadata": {},
   "source": [
    "### Strings "
   ]
  },
  {
   "cell_type": "code",
   "execution_count": 1,
   "id": "138e7b56",
   "metadata": {},
   "outputs": [],
   "source": [
    "name = 'Ghanatechlab'"
   ]
  },
  {
   "cell_type": "code",
   "execution_count": 2,
   "id": "8d48a46f",
   "metadata": {},
   "outputs": [
    {
     "data": {
      "text/plain": [
       "'GHANATECHLAB'"
      ]
     },
     "execution_count": 2,
     "metadata": {},
     "output_type": "execute_result"
    }
   ],
   "source": [
    "name.upper()"
   ]
  },
  {
   "cell_type": "code",
   "execution_count": 3,
   "id": "df333b67",
   "metadata": {},
   "outputs": [
    {
     "data": {
      "text/plain": [
       "'Ghanatechlab'"
      ]
     },
     "execution_count": 3,
     "metadata": {},
     "output_type": "execute_result"
    }
   ],
   "source": [
    "name.capitalize()"
   ]
  },
  {
   "cell_type": "code",
   "execution_count": 4,
   "id": "8b6a8c20",
   "metadata": {},
   "outputs": [
    {
     "data": {
      "text/plain": [
       "['Ghanatechlab']"
      ]
     },
     "execution_count": 4,
     "metadata": {},
     "output_type": "execute_result"
    }
   ],
   "source": [
    "name.split()"
   ]
  },
  {
   "cell_type": "code",
   "execution_count": 6,
   "id": "a21e3abb",
   "metadata": {},
   "outputs": [
    {
     "data": {
      "text/plain": [
       "['Ghanatechlab']"
      ]
     },
     "execution_count": 6,
     "metadata": {},
     "output_type": "execute_result"
    }
   ],
   "source": [
    "name.split(',')"
   ]
  },
  {
   "cell_type": "code",
   "execution_count": 7,
   "id": "548f5e97",
   "metadata": {},
   "outputs": [
    {
     "data": {
      "text/plain": [
       "'G'"
      ]
     },
     "execution_count": 7,
     "metadata": {},
     "output_type": "execute_result"
    }
   ],
   "source": [
    "name[0]"
   ]
  },
  {
   "cell_type": "code",
   "execution_count": 8,
   "id": "f134c4cf",
   "metadata": {},
   "outputs": [
    {
     "data": {
      "text/plain": [
       "'b'"
      ]
     },
     "execution_count": 8,
     "metadata": {},
     "output_type": "execute_result"
    }
   ],
   "source": [
    "name[-1]"
   ]
  },
  {
   "cell_type": "code",
   "execution_count": 9,
   "id": "0128e1a5",
   "metadata": {},
   "outputs": [
    {
     "data": {
      "text/plain": [
       "'Ghanate'"
      ]
     },
     "execution_count": 9,
     "metadata": {},
     "output_type": "execute_result"
    }
   ],
   "source": [
    "name[0:7]"
   ]
  },
  {
   "cell_type": "code",
   "execution_count": 10,
   "id": "7f80c54e",
   "metadata": {},
   "outputs": [
    {
     "data": {
      "text/plain": [
       "'Ghanat'"
      ]
     },
     "execution_count": 10,
     "metadata": {},
     "output_type": "execute_result"
    }
   ],
   "source": [
    "name[0:6]"
   ]
  },
  {
   "cell_type": "code",
   "execution_count": 11,
   "id": "1c58c4ea",
   "metadata": {},
   "outputs": [
    {
     "data": {
      "text/plain": [
       "''"
      ]
     },
     "execution_count": 11,
     "metadata": {},
     "output_type": "execute_result"
    }
   ],
   "source": [
    "name[-1:-4]"
   ]
  },
  {
   "cell_type": "code",
   "execution_count": null,
   "id": "ed455408",
   "metadata": {},
   "outputs": [],
   "source": []
  }
 ],
 "metadata": {
  "kernelspec": {
   "display_name": "Python 3 (ipykernel)",
   "language": "python",
   "name": "python3"
  },
  "language_info": {
   "codemirror_mode": {
    "name": "ipython",
    "version": 3
   },
   "file_extension": ".py",
   "mimetype": "text/x-python",
   "name": "python",
   "nbconvert_exporter": "python",
   "pygments_lexer": "ipython3",
   "version": "3.11.4"
  }
 },
 "nbformat": 4,
 "nbformat_minor": 5
}
