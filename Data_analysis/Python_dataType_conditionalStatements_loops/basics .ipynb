{
 "cells": [
  {
   "cell_type": "markdown",
   "id": "cd039334",
   "metadata": {},
   "source": [
    "## List\n",
    "\n",
    "### Lists are ordered kinda values. A data type. Often denoted in square brackets "
   ]
  },
  {
   "cell_type": "code",
   "execution_count": 2,
   "id": "7df70f76",
   "metadata": {},
   "outputs": [],
   "source": [
    "names = ['Isaac', 'King', 'Theo', 'Jakes']"
   ]
  },
  {
   "cell_type": "code",
   "execution_count": 3,
   "id": "1667a8bb",
   "metadata": {},
   "outputs": [
    {
     "data": {
      "text/plain": [
       "list"
      ]
     },
     "execution_count": 3,
     "metadata": {},
     "output_type": "execute_result"
    }
   ],
   "source": [
    "type(names)"
   ]
  },
  {
   "cell_type": "code",
   "execution_count": 4,
   "id": "1d749a7d",
   "metadata": {},
   "outputs": [],
   "source": [
    "ages = [12,23,45,67,66]"
   ]
  },
  {
   "cell_type": "code",
   "execution_count": 5,
   "id": "3a72cb45",
   "metadata": {},
   "outputs": [
    {
     "data": {
      "text/plain": [
       "list"
      ]
     },
     "execution_count": 5,
     "metadata": {},
     "output_type": "execute_result"
    }
   ],
   "source": [
    "type(ages)"
   ]
  },
  {
   "cell_type": "code",
   "execution_count": 7,
   "id": "ba3d2975",
   "metadata": {},
   "outputs": [],
   "source": [
    "goods = [12, \"Isaac\", 34.44, [1,234,55]]"
   ]
  },
  {
   "cell_type": "code",
   "execution_count": 8,
   "id": "c380e554",
   "metadata": {},
   "outputs": [
    {
     "data": {
      "text/plain": [
       "'Jakes'"
      ]
     },
     "execution_count": 8,
     "metadata": {},
     "output_type": "execute_result"
    }
   ],
   "source": [
    "names[3]"
   ]
  },
  {
   "cell_type": "code",
   "execution_count": 9,
   "id": "bcf2b217",
   "metadata": {},
   "outputs": [
    {
     "data": {
      "text/plain": [
       "'Jakes'"
      ]
     },
     "execution_count": 9,
     "metadata": {},
     "output_type": "execute_result"
    }
   ],
   "source": [
    "names[-1]"
   ]
  },
  {
   "cell_type": "code",
   "execution_count": 10,
   "id": "7d6718db",
   "metadata": {},
   "outputs": [
    {
     "data": {
      "text/plain": [
       "['Isaac', 'King', 'Theo', 'Jakes']"
      ]
     },
     "execution_count": 10,
     "metadata": {},
     "output_type": "execute_result"
    }
   ],
   "source": [
    "names"
   ]
  },
  {
   "cell_type": "markdown",
   "id": "8634d09e",
   "metadata": {},
   "source": [
    "## Conditional Statements "
   ]
  },
  {
   "cell_type": "code",
   "execution_count": 11,
   "id": "3e192ab6",
   "metadata": {},
   "outputs": [],
   "source": [
    "#If statements "
   ]
  },
  {
   "cell_type": "code",
   "execution_count": 12,
   "id": "12033316",
   "metadata": {},
   "outputs": [],
   "source": [
    "import keyword "
   ]
  },
  {
   "cell_type": "code",
   "execution_count": 13,
   "id": "5f0cbe65",
   "metadata": {},
   "outputs": [
    {
     "data": {
      "text/plain": [
       "['False',\n",
       " 'None',\n",
       " 'True',\n",
       " 'and',\n",
       " 'as',\n",
       " 'assert',\n",
       " 'async',\n",
       " 'await',\n",
       " 'break',\n",
       " 'class',\n",
       " 'continue',\n",
       " 'def',\n",
       " 'del',\n",
       " 'elif',\n",
       " 'else',\n",
       " 'except',\n",
       " 'finally',\n",
       " 'for',\n",
       " 'from',\n",
       " 'global',\n",
       " 'if',\n",
       " 'import',\n",
       " 'in',\n",
       " 'is',\n",
       " 'lambda',\n",
       " 'nonlocal',\n",
       " 'not',\n",
       " 'or',\n",
       " 'pass',\n",
       " 'raise',\n",
       " 'return',\n",
       " 'try',\n",
       " 'while',\n",
       " 'with',\n",
       " 'yield']"
      ]
     },
     "execution_count": 13,
     "metadata": {},
     "output_type": "execute_result"
    }
   ],
   "source": [
    "keyword.kwlist"
   ]
  },
  {
   "cell_type": "code",
   "execution_count": 14,
   "id": "58d67340",
   "metadata": {},
   "outputs": [
    {
     "data": {
      "text/plain": [
       "'\\nsyntax:\\nif condition:\\n    statement to execute if true\\n\\n'"
      ]
     },
     "execution_count": 14,
     "metadata": {},
     "output_type": "execute_result"
    }
   ],
   "source": [
    "'''\n",
    "syntax:\n",
    "if condition:\n",
    "    statement to execute if true\n",
    "\n",
    "'''\n"
   ]
  },
  {
   "cell_type": "code",
   "execution_count": 15,
   "id": "2ba145c1",
   "metadata": {},
   "outputs": [
    {
     "data": {
      "text/plain": [
       "['Isaac', 'King', 'Theo', 'Jakes']"
      ]
     },
     "execution_count": 15,
     "metadata": {},
     "output_type": "execute_result"
    }
   ],
   "source": [
    "names"
   ]
  },
  {
   "cell_type": "code",
   "execution_count": 16,
   "id": "cc398bb0",
   "metadata": {},
   "outputs": [
    {
     "name": "stdout",
     "output_type": "stream",
     "text": [
      "Good day people\n"
     ]
    }
   ],
   "source": [
    "if 'King' in names: \n",
    "    print(\"Good day people\")\n",
    "    "
   ]
  },
  {
   "cell_type": "code",
   "execution_count": 17,
   "id": "e93b638c",
   "metadata": {},
   "outputs": [
    {
     "name": "stdout",
     "output_type": "stream",
     "text": [
      "Where you at please\n"
     ]
    }
   ],
   "source": [
    "if 'Cecil' in names:\n",
    "    print('You are in class')\n",
    "else:\n",
    "    print(\"Where you at please\")"
   ]
  },
  {
   "cell_type": "code",
   "execution_count": 18,
   "id": "43bc5109",
   "metadata": {},
   "outputs": [
    {
     "name": "stdout",
     "output_type": "stream",
     "text": [
      "This number is greater\n"
     ]
    }
   ],
   "source": [
    "num = 4 \n",
    "if num > 3:\n",
    "    print(\"This number is greater\")"
   ]
  },
  {
   "cell_type": "markdown",
   "id": "2b517eed",
   "metadata": {},
   "source": [
    "# If else statement "
   ]
  },
  {
   "cell_type": "code",
   "execution_count": 19,
   "id": "42156927",
   "metadata": {},
   "outputs": [
    {
     "name": "stdout",
     "output_type": "stream",
     "text": [
      "`She did not step foot in class today\n"
     ]
    }
   ],
   "source": [
    "if \"Cecli\" in names: \n",
    "    print(\"Welcome to class\")\n",
    "else:\n",
    "    print(\"`She did not step foot in class today\")"
   ]
  },
  {
   "cell_type": "markdown",
   "id": "4c688ac8",
   "metadata": {},
   "source": [
    "# Nested if statements "
   ]
  },
  {
   "cell_type": "code",
   "execution_count": 20,
   "id": "48fd941f",
   "metadata": {},
   "outputs": [
    {
     "name": "stdout",
     "output_type": "stream",
     "text": [
      "Greater than\n",
      "This is an even number\n"
     ]
    }
   ],
   "source": [
    "num = 10\n",
    "\n",
    "if num > 5:\n",
    "    print(\"Greater than\")\n",
    "    if num % 2 == 0:\n",
    "        print('This is an even number')"
   ]
  },
  {
   "cell_type": "code",
   "execution_count": null,
   "id": "c83e71de",
   "metadata": {},
   "outputs": [],
   "source": []
  }
 ],
 "metadata": {
  "kernelspec": {
   "display_name": "Python 3 (ipykernel)",
   "language": "python",
   "name": "python3"
  },
  "language_info": {
   "codemirror_mode": {
    "name": "ipython",
    "version": 3
   },
   "file_extension": ".py",
   "mimetype": "text/x-python",
   "name": "python",
   "nbconvert_exporter": "python",
   "pygments_lexer": "ipython3",
   "version": "3.11.4"
  }
 },
 "nbformat": 4,
 "nbformat_minor": 5
}
